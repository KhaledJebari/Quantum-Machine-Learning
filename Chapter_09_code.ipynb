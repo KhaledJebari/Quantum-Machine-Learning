{
 "cells": [
  {
   "cell_type": "markdown",
   "id": "398a1114",
   "metadata": {},
   "source": [
    "# CHAPTER 9 - Quantum Support Vector Machines - Code"
   ]
  },
  {
   "cell_type": "markdown",
   "id": "d60f20a9",
   "metadata": {},
   "source": [
    "*Note*: You may skip the following four cells if you have alredy installed the right versions of all the libraries mentioned in *Appendix D*. This will likely NOT be the case if you are running this notebook on a cloud service such as Google Colab."
   ]
  },
  {
   "cell_type": "code",
   "execution_count": null,
   "id": "c31af5f7",
   "metadata": {},
   "outputs": [
    {
     "name": "stdout",
     "output_type": "stream",
     "text": [
      "Collecting scikit-learn==1.2.1\n",
      "  Using cached scikit_learn-1.2.1-cp310-cp310-win_amd64.whl.metadata (11 kB)\n",
      "Requirement already satisfied: numpy>=1.17.3 in c:\\users\\jebar\\miniconda3\\envs\\myenv1\\lib\\site-packages (from scikit-learn==1.2.1) (1.26.4)\n",
      "Requirement already satisfied: scipy>=1.3.2 in c:\\users\\jebar\\miniconda3\\envs\\myenv1\\lib\\site-packages (from scikit-learn==1.2.1) (1.15.3)\n",
      "Requirement already satisfied: joblib>=1.1.1 in c:\\users\\jebar\\miniconda3\\envs\\myenv1\\lib\\site-packages (from scikit-learn==1.2.1) (1.5.2)\n",
      "Requirement already satisfied: threadpoolctl>=2.0.0 in c:\\users\\jebar\\miniconda3\\envs\\myenv1\\lib\\site-packages (from scikit-learn==1.2.1) (3.6.0)\n",
      "Using cached scikit_learn-1.2.1-cp310-cp310-win_amd64.whl (8.3 MB)\n",
      "Installing collected packages: scikit-learn\n",
      "  Attempting uninstall: scikit-learn\n",
      "    Found existing installation: scikit-learn 1.7.2\n",
      "    Uninstalling scikit-learn-1.7.2:\n",
      "      Successfully uninstalled scikit-learn-1.7.2\n",
      "Successfully installed scikit-learn-1.2.1\n",
      "Note: you may need to restart the kernel to use updated packages.\n"
     ]
    }
   ],
   "source": [
    "pip install scikit-learn==1.2.1"
   ]
  },
  {
   "cell_type": "code",
   "execution_count": null,
   "id": "2e9d0203",
   "metadata": {},
   "outputs": [
    {
     "name": "stdout",
     "output_type": "stream",
     "text": [
      "Requirement already satisfied: pennylane==0.26 in c:\\users\\jebar\\miniconda3\\envs\\myenv1\\lib\\site-packages (0.26.0)\n",
      "Requirement already satisfied: numpy in c:\\users\\jebar\\miniconda3\\envs\\myenv1\\lib\\site-packages (from pennylane==0.26) (1.26.4)\n",
      "Requirement already satisfied: scipy in c:\\users\\jebar\\miniconda3\\envs\\myenv1\\lib\\site-packages (from pennylane==0.26) (1.15.3)\n",
      "Requirement already satisfied: networkx in c:\\users\\jebar\\miniconda3\\envs\\myenv1\\lib\\site-packages (from pennylane==0.26) (3.4.2)\n",
      "Requirement already satisfied: retworkx in c:\\users\\jebar\\miniconda3\\envs\\myenv1\\lib\\site-packages (from pennylane==0.26) (0.17.1)\n",
      "Requirement already satisfied: autograd in c:\\users\\jebar\\miniconda3\\envs\\myenv1\\lib\\site-packages (from pennylane==0.26) (1.8.0)\n",
      "Requirement already satisfied: toml in c:\\users\\jebar\\miniconda3\\envs\\myenv1\\lib\\site-packages (from pennylane==0.26) (0.10.2)\n",
      "Requirement already satisfied: appdirs in c:\\users\\jebar\\miniconda3\\envs\\myenv1\\lib\\site-packages (from pennylane==0.26) (1.4.4)\n",
      "Requirement already satisfied: semantic-version>=2.7 in c:\\users\\jebar\\miniconda3\\envs\\myenv1\\lib\\site-packages (from pennylane==0.26) (2.10.0)\n",
      "Requirement already satisfied: autoray>=0.3.1 in c:\\users\\jebar\\miniconda3\\envs\\myenv1\\lib\\site-packages (from pennylane==0.26) (0.8.0)\n",
      "Requirement already satisfied: cachetools in c:\\users\\jebar\\miniconda3\\envs\\myenv1\\lib\\site-packages (from pennylane==0.26) (6.2.1)\n",
      "Requirement already satisfied: pennylane-lightning>=0.26 in c:\\users\\jebar\\miniconda3\\envs\\myenv1\\lib\\site-packages (from pennylane==0.26) (0.28.0)\n",
      "Requirement already satisfied: ninja in c:\\users\\jebar\\miniconda3\\envs\\myenv1\\lib\\site-packages (from pennylane-lightning>=0.26->pennylane==0.26) (1.13.0)\n",
      "Requirement already satisfied: rustworkx in c:\\users\\jebar\\miniconda3\\envs\\myenv1\\lib\\site-packages (from retworkx->pennylane==0.26) (0.17.1)\n",
      "Note: you may need to restart the kernel to use updated packages.\n"
     ]
    }
   ],
   "source": [
    "pip install pennylane==0.26"
   ]
  },
  {
   "cell_type": "code",
   "execution_count": null,
   "id": "8b8485db",
   "metadata": {},
   "outputs": [
    {
     "name": "stdout",
     "output_type": "stream",
     "text": [
      "Requirement already satisfied: qiskit==0.39.2 in c:\\users\\jebar\\miniconda3\\envs\\myenv1\\lib\\site-packages (0.39.2)\n",
      "Requirement already satisfied: qiskit-terra==0.22.2 in c:\\users\\jebar\\miniconda3\\envs\\myenv1\\lib\\site-packages (from qiskit==0.39.2) (0.22.2)\n",
      "Requirement already satisfied: qiskit-aer==0.11.1 in c:\\users\\jebar\\miniconda3\\envs\\myenv1\\lib\\site-packages (from qiskit==0.39.2) (0.11.1)\n",
      "Requirement already satisfied: qiskit-ibmq-provider==0.19.2 in c:\\users\\jebar\\miniconda3\\envs\\myenv1\\lib\\site-packages (from qiskit==0.39.2) (0.19.2)\n",
      "Requirement already satisfied: numpy>=1.16.3 in c:\\users\\jebar\\miniconda3\\envs\\myenv1\\lib\\site-packages (from qiskit-aer==0.11.1->qiskit==0.39.2) (1.26.4)\n",
      "Requirement already satisfied: scipy>=1.0 in c:\\users\\jebar\\miniconda3\\envs\\myenv1\\lib\\site-packages (from qiskit-aer==0.11.1->qiskit==0.39.2) (1.15.3)\n",
      "Requirement already satisfied: requests>=2.19 in c:\\users\\jebar\\miniconda3\\envs\\myenv1\\lib\\site-packages (from qiskit-ibmq-provider==0.19.2->qiskit==0.39.2) (2.32.5)\n",
      "Requirement already satisfied: requests-ntlm>=1.1.0 in c:\\users\\jebar\\miniconda3\\envs\\myenv1\\lib\\site-packages (from qiskit-ibmq-provider==0.19.2->qiskit==0.39.2) (1.3.0)\n",
      "Requirement already satisfied: urllib3>=1.21.1 in c:\\users\\jebar\\miniconda3\\envs\\myenv1\\lib\\site-packages (from qiskit-ibmq-provider==0.19.2->qiskit==0.39.2) (2.5.0)\n",
      "Requirement already satisfied: python-dateutil>=2.8.0 in c:\\users\\jebar\\miniconda3\\envs\\myenv1\\lib\\site-packages (from qiskit-ibmq-provider==0.19.2->qiskit==0.39.2) (2.9.0.post0)\n",
      "Requirement already satisfied: websocket-client>=1.0.1 in c:\\users\\jebar\\miniconda3\\envs\\myenv1\\lib\\site-packages (from qiskit-ibmq-provider==0.19.2->qiskit==0.39.2) (1.9.0)\n",
      "Requirement already satisfied: websockets>=10.0 in c:\\users\\jebar\\miniconda3\\envs\\myenv1\\lib\\site-packages (from qiskit-ibmq-provider==0.19.2->qiskit==0.39.2) (15.0.1)\n",
      "Requirement already satisfied: retworkx>=0.11.0 in c:\\users\\jebar\\miniconda3\\envs\\myenv1\\lib\\site-packages (from qiskit-terra==0.22.2->qiskit==0.39.2) (0.17.1)\n",
      "Requirement already satisfied: ply>=3.10 in c:\\users\\jebar\\miniconda3\\envs\\myenv1\\lib\\site-packages (from qiskit-terra==0.22.2->qiskit==0.39.2) (3.11)\n",
      "Requirement already satisfied: psutil>=5 in c:\\users\\jebar\\miniconda3\\envs\\myenv1\\lib\\site-packages (from qiskit-terra==0.22.2->qiskit==0.39.2) (7.1.2)\n",
      "Requirement already satisfied: sympy>=1.3 in c:\\users\\jebar\\miniconda3\\envs\\myenv1\\lib\\site-packages (from qiskit-terra==0.22.2->qiskit==0.39.2) (1.14.0)\n",
      "Requirement already satisfied: dill>=0.3 in c:\\users\\jebar\\miniconda3\\envs\\myenv1\\lib\\site-packages (from qiskit-terra==0.22.2->qiskit==0.39.2) (0.3.5.1)\n",
      "Requirement already satisfied: stevedore>=3.0.0 in c:\\users\\jebar\\miniconda3\\envs\\myenv1\\lib\\site-packages (from qiskit-terra==0.22.2->qiskit==0.39.2) (5.5.0)\n",
      "Requirement already satisfied: tweedledum<2.0,>=1.1 in c:\\users\\jebar\\miniconda3\\envs\\myenv1\\lib\\site-packages (from qiskit-terra==0.22.2->qiskit==0.39.2) (1.1.1)\n",
      "Requirement already satisfied: six>=1.5 in c:\\users\\jebar\\miniconda3\\envs\\myenv1\\lib\\site-packages (from python-dateutil>=2.8.0->qiskit-ibmq-provider==0.19.2->qiskit==0.39.2) (1.17.0)\n",
      "Requirement already satisfied: charset_normalizer<4,>=2 in c:\\users\\jebar\\miniconda3\\envs\\myenv1\\lib\\site-packages (from requests>=2.19->qiskit-ibmq-provider==0.19.2->qiskit==0.39.2) (3.4.4)\n",
      "Requirement already satisfied: idna<4,>=2.5 in c:\\users\\jebar\\miniconda3\\envs\\myenv1\\lib\\site-packages (from requests>=2.19->qiskit-ibmq-provider==0.19.2->qiskit==0.39.2) (3.11)\n",
      "Requirement already satisfied: certifi>=2017.4.17 in c:\\users\\jebar\\miniconda3\\envs\\myenv1\\lib\\site-packages (from requests>=2.19->qiskit-ibmq-provider==0.19.2->qiskit==0.39.2) (2025.10.5)\n",
      "Requirement already satisfied: cryptography>=1.3 in c:\\users\\jebar\\miniconda3\\envs\\myenv1\\lib\\site-packages (from requests-ntlm>=1.1.0->qiskit-ibmq-provider==0.19.2->qiskit==0.39.2) (46.0.3)\n",
      "Requirement already satisfied: pyspnego>=0.4.0 in c:\\users\\jebar\\miniconda3\\envs\\myenv1\\lib\\site-packages (from requests-ntlm>=1.1.0->qiskit-ibmq-provider==0.19.2->qiskit==0.39.2) (0.12.0)\n",
      "Requirement already satisfied: cffi>=2.0.0 in c:\\users\\jebar\\miniconda3\\envs\\myenv1\\lib\\site-packages (from cryptography>=1.3->requests-ntlm>=1.1.0->qiskit-ibmq-provider==0.19.2->qiskit==0.39.2) (2.0.0)\n",
      "Requirement already satisfied: typing-extensions>=4.13.2 in c:\\users\\jebar\\miniconda3\\envs\\myenv1\\lib\\site-packages (from cryptography>=1.3->requests-ntlm>=1.1.0->qiskit-ibmq-provider==0.19.2->qiskit==0.39.2) (4.15.0)\n",
      "Requirement already satisfied: pycparser in c:\\users\\jebar\\miniconda3\\envs\\myenv1\\lib\\site-packages (from cffi>=2.0.0->cryptography>=1.3->requests-ntlm>=1.1.0->qiskit-ibmq-provider==0.19.2->qiskit==0.39.2) (2.23)\n",
      "Requirement already satisfied: sspilib>=0.3.0 in c:\\users\\jebar\\miniconda3\\envs\\myenv1\\lib\\site-packages (from pyspnego>=0.4.0->requests-ntlm>=1.1.0->qiskit-ibmq-provider==0.19.2->qiskit==0.39.2) (0.4.0)\n",
      "Requirement already satisfied: rustworkx in c:\\users\\jebar\\miniconda3\\envs\\myenv1\\lib\\site-packages (from retworkx>=0.11.0->qiskit-terra==0.22.2->qiskit==0.39.2) (0.17.1)\n",
      "Requirement already satisfied: mpmath<1.4,>=1.1.0 in c:\\users\\jebar\\miniconda3\\envs\\myenv1\\lib\\site-packages (from sympy>=1.3->qiskit-terra==0.22.2->qiskit==0.39.2) (1.3.0)\n",
      "Note: you may need to restart the kernel to use updated packages.\n"
     ]
    }
   ],
   "source": [
    "pip install qiskit==0.39.2"
   ]
  },
  {
   "cell_type": "code",
   "execution_count": null,
   "id": "8d18ebd5",
   "metadata": {},
   "outputs": [
    {
     "name": "stdout",
     "output_type": "stream",
     "text": [
      "Requirement already satisfied: qiskit_machine_learning==0.5.0 in c:\\users\\jebar\\miniconda3\\envs\\myenv1\\lib\\site-packages (0.5.0)Note: you may need to restart the kernel to use updated packages.\n",
      "\n",
      "Requirement already satisfied: qiskit-terra>=0.22 in c:\\users\\jebar\\miniconda3\\envs\\myenv1\\lib\\site-packages (from qiskit_machine_learning==0.5.0) (0.22.2)\n",
      "Requirement already satisfied: scipy>=1.4 in c:\\users\\jebar\\miniconda3\\envs\\myenv1\\lib\\site-packages (from qiskit_machine_learning==0.5.0) (1.15.3)\n",
      "Requirement already satisfied: numpy>=1.17 in c:\\users\\jebar\\miniconda3\\envs\\myenv1\\lib\\site-packages (from qiskit_machine_learning==0.5.0) (1.26.4)\n",
      "Requirement already satisfied: psutil>=5 in c:\\users\\jebar\\miniconda3\\envs\\myenv1\\lib\\site-packages (from qiskit_machine_learning==0.5.0) (7.1.2)\n",
      "Requirement already satisfied: scikit-learn>=0.20.0 in c:\\users\\jebar\\miniconda3\\envs\\myenv1\\lib\\site-packages (from qiskit_machine_learning==0.5.0) (1.2.1)\n",
      "Requirement already satisfied: fastdtw in c:\\users\\jebar\\miniconda3\\envs\\myenv1\\lib\\site-packages (from qiskit_machine_learning==0.5.0) (0.3.4)\n",
      "Requirement already satisfied: setuptools>=40.1.0 in c:\\users\\jebar\\miniconda3\\envs\\myenv1\\lib\\site-packages (from qiskit_machine_learning==0.5.0) (80.9.0)\n",
      "Requirement already satisfied: dill<0.3.6,>=0.3.4 in c:\\users\\jebar\\miniconda3\\envs\\myenv1\\lib\\site-packages (from qiskit_machine_learning==0.5.0) (0.3.5.1)\n",
      "Requirement already satisfied: retworkx>=0.11.0 in c:\\users\\jebar\\miniconda3\\envs\\myenv1\\lib\\site-packages (from qiskit-terra>=0.22->qiskit_machine_learning==0.5.0) (0.17.1)\n",
      "Requirement already satisfied: ply>=3.10 in c:\\users\\jebar\\miniconda3\\envs\\myenv1\\lib\\site-packages (from qiskit-terra>=0.22->qiskit_machine_learning==0.5.0) (3.11)\n",
      "Requirement already satisfied: sympy>=1.3 in c:\\users\\jebar\\miniconda3\\envs\\myenv1\\lib\\site-packages (from qiskit-terra>=0.22->qiskit_machine_learning==0.5.0) (1.14.0)\n",
      "Requirement already satisfied: python-dateutil>=2.8.0 in c:\\users\\jebar\\miniconda3\\envs\\myenv1\\lib\\site-packages (from qiskit-terra>=0.22->qiskit_machine_learning==0.5.0) (2.9.0.post0)\n",
      "Requirement already satisfied: stevedore>=3.0.0 in c:\\users\\jebar\\miniconda3\\envs\\myenv1\\lib\\site-packages (from qiskit-terra>=0.22->qiskit_machine_learning==0.5.0) (5.5.0)\n",
      "Requirement already satisfied: tweedledum<2.0,>=1.1 in c:\\users\\jebar\\miniconda3\\envs\\myenv1\\lib\\site-packages (from qiskit-terra>=0.22->qiskit_machine_learning==0.5.0) (1.1.1)\n",
      "Requirement already satisfied: six>=1.5 in c:\\users\\jebar\\miniconda3\\envs\\myenv1\\lib\\site-packages (from python-dateutil>=2.8.0->qiskit-terra>=0.22->qiskit_machine_learning==0.5.0) (1.17.0)\n",
      "Requirement already satisfied: rustworkx in c:\\users\\jebar\\miniconda3\\envs\\myenv1\\lib\\site-packages (from retworkx>=0.11.0->qiskit-terra>=0.22->qiskit_machine_learning==0.5.0) (0.17.1)\n",
      "Requirement already satisfied: joblib>=1.1.1 in c:\\users\\jebar\\miniconda3\\envs\\myenv1\\lib\\site-packages (from scikit-learn>=0.20.0->qiskit_machine_learning==0.5.0) (1.5.2)\n",
      "Requirement already satisfied: threadpoolctl>=2.0.0 in c:\\users\\jebar\\miniconda3\\envs\\myenv1\\lib\\site-packages (from scikit-learn>=0.20.0->qiskit_machine_learning==0.5.0) (3.6.0)\n",
      "Requirement already satisfied: mpmath<1.4,>=1.1.0 in c:\\users\\jebar\\miniconda3\\envs\\myenv1\\lib\\site-packages (from sympy>=1.3->qiskit-terra>=0.22->qiskit_machine_learning==0.5.0) (1.3.0)\n"
     ]
    }
   ],
   "source": [
    "pip install qiskit_machine_learning==0.5.0"
   ]
  },
  {
   "cell_type": "code",
   "execution_count": 5,
   "id": "6d229d9c",
   "metadata": {},
   "outputs": [],
   "source": [
    "import numpy as np\n",
    "\n",
    "seed = 1234\n",
    "np.random.seed(seed)"
   ]
  },
  {
   "cell_type": "code",
   "execution_count": 6,
   "id": "146e2244",
   "metadata": {},
   "outputs": [],
   "source": [
    "from sklearn.datasets import load_wine\n",
    "\n",
    "x,y = load_wine(return_X_y = True)"
   ]
  },
  {
   "cell_type": "code",
   "execution_count": 7,
   "id": "23834185",
   "metadata": {},
   "outputs": [],
   "source": [
    "x = x[:59+71]\n",
    "y = y[:59+71]"
   ]
  },
  {
   "cell_type": "code",
   "execution_count": 8,
   "id": "e189199b",
   "metadata": {},
   "outputs": [],
   "source": [
    "from sklearn.model_selection import train_test_split\n",
    "\n",
    "x_tr, x_test, y_tr, y_test = train_test_split(x, y, train_size = 0.9)"
   ]
  },
  {
   "cell_type": "code",
   "execution_count": 9,
   "id": "56a1e1d4",
   "metadata": {},
   "outputs": [],
   "source": [
    "from sklearn.preprocessing import MaxAbsScaler\n",
    "\n",
    "scaler = MaxAbsScaler()\n",
    "x_tr = scaler.fit_transform(x_tr)"
   ]
  },
  {
   "cell_type": "code",
   "execution_count": 10,
   "id": "e6ec7bf5",
   "metadata": {},
   "outputs": [],
   "source": [
    "x_test = scaler.transform(x_test)\n",
    "x_test = np.clip(x_test,0,1)"
   ]
  },
  {
   "cell_type": "code",
   "execution_count": 11,
   "id": "7a28e035",
   "metadata": {},
   "outputs": [
    {
     "name": "stderr",
     "output_type": "stream",
     "text": [
      "c:\\Users\\jebar\\miniconda3\\envs\\myenv1\\lib\\site-packages\\pennylane\\__init__.py:20: UserWarning: pkg_resources is deprecated as an API. See https://setuptools.pypa.io/en/latest/pkg_resources.html. The pkg_resources package is slated for removal as early as 2025-11-30. Refrain from using this package or pin to Setuptools<81.\n",
      "  import pkg_resources\n",
      "c:\\Users\\jebar\\miniconda3\\envs\\myenv1\\lib\\site-packages\\pennylane_lightning\\lightning_qubit.py:893: UserWarning: Pre-compiled binaries for lightning.qubit are not available. Falling back to using the Python-based default.qubit implementation. To manually compile from source, follow the instructions at https://pennylane-lightning.readthedocs.io/en/latest/installation.html.\n",
      "  warn(\n"
     ]
    }
   ],
   "source": [
    "import pennylane as qml\n",
    "\n",
    "nqubits = 4\n",
    "dev = qml.device(\"lightning.qubit\", wires = nqubits)\n",
    "\n",
    "@qml.qnode(dev)\n",
    "def kernel_circ(a, b):\n",
    "    qml.AmplitudeEmbedding(\n",
    "        a, wires=range(nqubits), pad_with=0, normalize=True)\n",
    "    qml.adjoint(qml.AmplitudeEmbedding(\n",
    "        b, wires=range(nqubits), pad_with=0, normalize=True))\n",
    "    return qml.probs(wires = range(nqubits))"
   ]
  },
  {
   "cell_type": "code",
   "execution_count": 12,
   "id": "50f14380",
   "metadata": {},
   "outputs": [],
   "source": [
    "from sklearn.svm import SVC\n",
    "def qkernel(A, B):\n",
    "    return np.array([[kernel_circ(a, b)[0] for b in B] for a in A])\n",
    "\n",
    "svm = SVC(kernel = qkernel).fit(x_tr, y_tr)"
   ]
  },
  {
   "cell_type": "code",
   "execution_count": 13,
   "id": "8688dcaf",
   "metadata": {},
   "outputs": [
    {
     "name": "stdout",
     "output_type": "stream",
     "text": [
      "0.9230769230769231\n"
     ]
    }
   ],
   "source": [
    "from sklearn.metrics import accuracy_score\n",
    "\n",
    "print(accuracy_score(svm.predict(x_test), y_test))"
   ]
  },
  {
   "cell_type": "code",
   "execution_count": 14,
   "id": "d45ce737",
   "metadata": {},
   "outputs": [],
   "source": [
    "from sklearn.decomposition import PCA\n",
    "\n",
    "pca = PCA(n_components = 8)\n",
    "\n",
    "xs_tr = pca.fit_transform(x_tr)\n",
    "xs_test = pca.transform(x_test)"
   ]
  },
  {
   "cell_type": "code",
   "execution_count": 15,
   "id": "10b581a8",
   "metadata": {},
   "outputs": [
    {
     "name": "stderr",
     "output_type": "stream",
     "text": [
      "c:\\Users\\jebar\\miniconda3\\envs\\myenv1\\lib\\site-packages\\pennylane_lightning\\lightning_qubit.py:893: UserWarning: Pre-compiled binaries for lightning.qubit are not available. Falling back to using the Python-based default.qubit implementation. To manually compile from source, follow the instructions at https://pennylane-lightning.readthedocs.io/en/latest/installation.html.\n",
      "  warn(\n"
     ]
    }
   ],
   "source": [
    "nqubits = 8\n",
    "dev = qml.device(\"lightning.qubit\", wires=nqubits)\n",
    "\n",
    "@qml.qnode(dev)\n",
    "def kernel_circ(a, b):\n",
    "    qml.AngleEmbedding(a, wires=range(nqubits))\n",
    "    qml.adjoint(qml.AngleEmbedding(b, wires=range(nqubits)))\n",
    "    return qml.probs(wires = range(nqubits))"
   ]
  },
  {
   "cell_type": "code",
   "execution_count": 16,
   "id": "9a78dad1",
   "metadata": {},
   "outputs": [
    {
     "name": "stdout",
     "output_type": "stream",
     "text": [
      "1.0\n"
     ]
    }
   ],
   "source": [
    "svm = SVC(kernel = qkernel).fit(xs_tr, y_tr)\n",
    "\n",
    "print(accuracy_score(svm.predict(xs_test), y_test))"
   ]
  },
  {
   "cell_type": "code",
   "execution_count": 17,
   "id": "b314c107",
   "metadata": {},
   "outputs": [],
   "source": [
    "from itertools import combinations\n",
    "\n",
    "def ZZFeatureMap(nqubits, data):\n",
    "\n",
    "    # Number of variables that we will load:\n",
    "    # could be smaller than the number of qubits.\n",
    "    nload = min(len(data), nqubits) \n",
    "\n",
    "    for i in range(nload):\n",
    "        qml.Hadamard(i)\n",
    "        qml.RZ(2.0 * data[i], wires = i)\n",
    "\n",
    "    for pair in list(combinations(range(nload), 2)):\n",
    "        q0 = pair[0]\n",
    "        q1 = pair[1]\n",
    "\n",
    "        qml.CZ(wires = [q0, q1])\n",
    "        qml.RZ(2.0 * (np.pi - data[q0]) *\n",
    "            (np.pi - data[q1]), wires = q1)\n",
    "        qml.CZ(wires = [q0, q1])"
   ]
  },
  {
   "cell_type": "code",
   "execution_count": 18,
   "id": "eb92983b",
   "metadata": {},
   "outputs": [
    {
     "name": "stderr",
     "output_type": "stream",
     "text": [
      "c:\\Users\\jebar\\miniconda3\\envs\\myenv1\\lib\\site-packages\\pennylane_lightning\\lightning_qubit.py:893: UserWarning: Pre-compiled binaries for lightning.qubit are not available. Falling back to using the Python-based default.qubit implementation. To manually compile from source, follow the instructions at https://pennylane-lightning.readthedocs.io/en/latest/installation.html.\n",
      "  warn(\n"
     ]
    },
    {
     "name": "stdout",
     "output_type": "stream",
     "text": [
      "0.7692307692307693\n"
     ]
    }
   ],
   "source": [
    "nqubits = 4\n",
    "dev = qml.device(\"lightning.qubit\", wires = nqubits)\n",
    "\n",
    "@qml.qnode(dev)\n",
    "def kernel_circ(a, b):\n",
    "    ZZFeatureMap(nqubits, a)\n",
    "    qml.adjoint(ZZFeatureMap)(nqubits, b)\n",
    "    return qml.probs(wires = range(nqubits))\n",
    "\n",
    "svm = SVC(kernel=qkernel).fit(xs_tr, y_tr)\n",
    "print(accuracy_score(svm.predict(xs_test), y_test))"
   ]
  },
  {
   "cell_type": "code",
   "execution_count": 19,
   "id": "9ee2d603",
   "metadata": {},
   "outputs": [],
   "source": [
    "from sklearn.metrics import accuracy_score"
   ]
  },
  {
   "cell_type": "code",
   "execution_count": 20,
   "id": "41e0f0b7",
   "metadata": {},
   "outputs": [],
   "source": [
    "from qiskit import *"
   ]
  },
  {
   "cell_type": "code",
   "execution_count": 21,
   "id": "a6e31c97",
   "metadata": {},
   "outputs": [
    {
     "data": {
      "text/plain": [
       "<qiskit.circuit.instructionset.InstructionSet at 0x2acc3195810>"
      ]
     },
     "execution_count": 21,
     "metadata": {},
     "output_type": "execute_result"
    }
   ],
   "source": [
    "from qiskit.circuit import Parameter\n",
    "parameter = Parameter(\"x\")\n",
    "qc = QuantumCircuit(1)\n",
    "qc.rx(parameter, 0)"
   ]
  },
  {
   "cell_type": "code",
   "execution_count": 22,
   "id": "f55ce42b",
   "metadata": {},
   "outputs": [
    {
     "data": {
      "text/plain": [
       "<qiskit.circuit.instructionset.InstructionSet at 0x2acc3195a50>"
      ]
     },
     "execution_count": 22,
     "metadata": {},
     "output_type": "execute_result"
    }
   ],
   "source": [
    "from qiskit.circuit import ParameterVector\n",
    "parameter = ParameterVector(\"x\", length = 2)\n",
    "qc = QuantumCircuit(2)\n",
    "qc.rx(parameter[0], 0)\n",
    "qc.rx(parameter[1], 1)"
   ]
  },
  {
   "cell_type": "code",
   "execution_count": 23,
   "id": "9d7fe08f",
   "metadata": {},
   "outputs": [],
   "source": [
    "from qiskit.circuit.library import ZZFeatureMap\n",
    "\n",
    "zzfm = ZZFeatureMap(8)"
   ]
  },
  {
   "cell_type": "code",
   "execution_count": 24,
   "id": "8807d145",
   "metadata": {},
   "outputs": [],
   "source": [
    "from qiskit_machine_learning.kernels import QuantumKernel\n",
    "from qiskit.providers.aer import AerSimulator\n",
    "\n",
    "qkernel = QuantumKernel(feature_map = zzfm, \n",
    "            quantum_instance = AerSimulator())"
   ]
  },
  {
   "cell_type": "code",
   "execution_count": 25,
   "id": "021b107e",
   "metadata": {},
   "outputs": [
    {
     "data": {
      "text/html": [
       "<style>#sk-container-id-1 {color: black;background-color: white;}#sk-container-id-1 pre{padding: 0;}#sk-container-id-1 div.sk-toggleable {background-color: white;}#sk-container-id-1 label.sk-toggleable__label {cursor: pointer;display: block;width: 100%;margin-bottom: 0;padding: 0.3em;box-sizing: border-box;text-align: center;}#sk-container-id-1 label.sk-toggleable__label-arrow:before {content: \"▸\";float: left;margin-right: 0.25em;color: #696969;}#sk-container-id-1 label.sk-toggleable__label-arrow:hover:before {color: black;}#sk-container-id-1 div.sk-estimator:hover label.sk-toggleable__label-arrow:before {color: black;}#sk-container-id-1 div.sk-toggleable__content {max-height: 0;max-width: 0;overflow: hidden;text-align: left;background-color: #f0f8ff;}#sk-container-id-1 div.sk-toggleable__content pre {margin: 0.2em;color: black;border-radius: 0.25em;background-color: #f0f8ff;}#sk-container-id-1 input.sk-toggleable__control:checked~div.sk-toggleable__content {max-height: 200px;max-width: 100%;overflow: auto;}#sk-container-id-1 input.sk-toggleable__control:checked~label.sk-toggleable__label-arrow:before {content: \"▾\";}#sk-container-id-1 div.sk-estimator input.sk-toggleable__control:checked~label.sk-toggleable__label {background-color: #d4ebff;}#sk-container-id-1 div.sk-label input.sk-toggleable__control:checked~label.sk-toggleable__label {background-color: #d4ebff;}#sk-container-id-1 input.sk-hidden--visually {border: 0;clip: rect(1px 1px 1px 1px);clip: rect(1px, 1px, 1px, 1px);height: 1px;margin: -1px;overflow: hidden;padding: 0;position: absolute;width: 1px;}#sk-container-id-1 div.sk-estimator {font-family: monospace;background-color: #f0f8ff;border: 1px dotted black;border-radius: 0.25em;box-sizing: border-box;margin-bottom: 0.5em;}#sk-container-id-1 div.sk-estimator:hover {background-color: #d4ebff;}#sk-container-id-1 div.sk-parallel-item::after {content: \"\";width: 100%;border-bottom: 1px solid gray;flex-grow: 1;}#sk-container-id-1 div.sk-label:hover label.sk-toggleable__label {background-color: #d4ebff;}#sk-container-id-1 div.sk-serial::before {content: \"\";position: absolute;border-left: 1px solid gray;box-sizing: border-box;top: 0;bottom: 0;left: 50%;z-index: 0;}#sk-container-id-1 div.sk-serial {display: flex;flex-direction: column;align-items: center;background-color: white;padding-right: 0.2em;padding-left: 0.2em;position: relative;}#sk-container-id-1 div.sk-item {position: relative;z-index: 1;}#sk-container-id-1 div.sk-parallel {display: flex;align-items: stretch;justify-content: center;background-color: white;position: relative;}#sk-container-id-1 div.sk-item::before, #sk-container-id-1 div.sk-parallel-item::before {content: \"\";position: absolute;border-left: 1px solid gray;box-sizing: border-box;top: 0;bottom: 0;left: 50%;z-index: -1;}#sk-container-id-1 div.sk-parallel-item {display: flex;flex-direction: column;z-index: 1;position: relative;background-color: white;}#sk-container-id-1 div.sk-parallel-item:first-child::after {align-self: flex-end;width: 50%;}#sk-container-id-1 div.sk-parallel-item:last-child::after {align-self: flex-start;width: 50%;}#sk-container-id-1 div.sk-parallel-item:only-child::after {width: 0;}#sk-container-id-1 div.sk-dashed-wrapped {border: 1px dashed gray;margin: 0 0.4em 0.5em 0.4em;box-sizing: border-box;padding-bottom: 0.4em;background-color: white;}#sk-container-id-1 div.sk-label label {font-family: monospace;font-weight: bold;display: inline-block;line-height: 1.2em;}#sk-container-id-1 div.sk-label-container {text-align: center;}#sk-container-id-1 div.sk-container {/* jupyter's `normalize.less` sets `[hidden] { display: none; }` but bootstrap.min.css set `[hidden] { display: none !important; }` so we also need the `!important` here to be able to override the default hidden behavior on the sphinx rendered scikit-learn.org. See: https://github.com/scikit-learn/scikit-learn/issues/21755 */display: inline-block !important;position: relative;}#sk-container-id-1 div.sk-text-repr-fallback {display: none;}</style><div id=\"sk-container-id-1\" class=\"sk-top-container\"><div class=\"sk-text-repr-fallback\"><pre>QSVC(C=1.0, break_ties=False, cache_size=200, class_weight=None, coef0=0.0,\n",
       "     decision_function_shape=&#x27;ovr&#x27;, degree=3, gamma=&#x27;scale&#x27;, max_iter=-1,\n",
       "     probability=False,\n",
       "     quantum_kernel=&lt;qiskit_machine_learning.kernels.quantum_kernel.QuantumKernel object at 0x000002ACC3195930&gt;,\n",
       "     random_state=None, shrinking=True, tol=0.001, verbose=False)</pre><b>In a Jupyter environment, please rerun this cell to show the HTML representation or trust the notebook. <br />On GitHub, the HTML representation is unable to render, please try loading this page with nbviewer.org.</b></div><div class=\"sk-container\" hidden><div class=\"sk-item\"><div class=\"sk-estimator sk-toggleable\"><input class=\"sk-toggleable__control sk-hidden--visually\" id=\"sk-estimator-id-1\" type=\"checkbox\" checked><label for=\"sk-estimator-id-1\" class=\"sk-toggleable__label sk-toggleable__label-arrow\">QSVC</label><div class=\"sk-toggleable__content\"><pre>QSVC(C=1.0, break_ties=False, cache_size=200, class_weight=None, coef0=0.0,\n",
       "     decision_function_shape=&#x27;ovr&#x27;, degree=3, gamma=&#x27;scale&#x27;, max_iter=-1,\n",
       "     probability=False,\n",
       "     quantum_kernel=&lt;qiskit_machine_learning.kernels.quantum_kernel.QuantumKernel object at 0x000002ACC3195930&gt;,\n",
       "     random_state=None, shrinking=True, tol=0.001, verbose=False)</pre></div></div></div></div></div>"
      ],
      "text/plain": [
       "QSVC(C=1.0, break_ties=False, cache_size=200, class_weight=None, coef0=0.0,\n",
       "     decision_function_shape='ovr', degree=3, gamma='scale', max_iter=-1,\n",
       "     probability=False,\n",
       "     quantum_kernel=<qiskit_machine_learning.kernels.quantum_kernel.QuantumKernel object at 0x000002ACC3195930>,\n",
       "     random_state=None, shrinking=True, tol=0.001, verbose=False)"
      ]
     },
     "execution_count": 25,
     "metadata": {},
     "output_type": "execute_result"
    }
   ],
   "source": [
    "from qiskit_machine_learning.algorithms import QSVC\n",
    "\n",
    "qsvm = QSVC(quantum_kernel = qkernel)\n",
    "qsvm.fit(xs_tr, y_tr)"
   ]
  },
  {
   "cell_type": "code",
   "execution_count": 26,
   "id": "82d4154d",
   "metadata": {},
   "outputs": [
    {
     "name": "stdout",
     "output_type": "stream",
     "text": [
      "0.6923076923076923\n"
     ]
    }
   ],
   "source": [
    "print(accuracy_score(qsvm.predict(xs_test), y_test))"
   ]
  },
  {
   "cell_type": "markdown",
   "id": "9ed76351-6ed9-4fca-9c62-51e2c79d61cc",
   "metadata": {
    "id": "VW0v33UbgyYD"
   },
   "source": [
    "*Note*: In the following cell, you need to replace \"1234\" with your actual IBM token. Refer to *Appendix D* in the book for instructions on how to create an account and get your token. Be very careful not to disclose your token to anyone!"
   ]
  },
  {
   "cell_type": "code",
   "execution_count": null,
   "id": "22a8ec95-0f23-491b-bc4a-7be3f4741edf",
   "metadata": {
    "id": "UOakFM20hl09",
    "tags": []
   },
   "outputs": [],
   "source": [
    "# Using local simulator instead of IBM Quantum hardware\n",
    "# No need for IBM token when using local simulators\n",
    "print(\"Using local Aer simulator (no IBM Quantum account needed)\")"
   ]
  },
  {
   "cell_type": "code",
   "execution_count": null,
   "id": "af1955cb",
   "metadata": {},
   "outputs": [
    {
     "name": "stderr",
     "output_type": "stream",
     "text": [
      "WARNING:urllib3.connectionpool:Retrying (PostForcelistRetry(total=4, connect=2, read=None, redirect=None, status=None)) after connection broken by 'NameResolutionError(\"<urllib3.connection.HTTPSConnection object at 0x000002AD495AE7D0>: Failed to resolve 'auth.quantum-computing.ibm.com' ([Errno 11001] getaddrinfo failed)\")': /api/version\n"
     ]
    },
    {
     "name": "stderr",
     "output_type": "stream",
     "text": [
      "WARNING:urllib3.connectionpool:Retrying (PostForcelistRetry(total=3, connect=1, read=None, redirect=None, status=None)) after connection broken by 'NameResolutionError(\"<urllib3.connection.HTTPSConnection object at 0x000002AD495AE770>: Failed to resolve 'auth.quantum-computing.ibm.com' ([Errno 11001] getaddrinfo failed)\")': /api/version\n",
      "WARNING:urllib3.connectionpool:Retrying (PostForcelistRetry(total=2, connect=0, read=None, redirect=None, status=None)) after connection broken by 'NameResolutionError(\"<urllib3.connection.HTTPSConnection object at 0x000002AD495AEC80>: Failed to resolve 'auth.quantum-computing.ibm.com' ([Errno 11001] getaddrinfo failed)\")': /api/version\n",
      "WARNING:urllib3.connectionpool:Retrying (PostForcelistRetry(total=2, connect=0, read=None, redirect=None, status=None)) after connection broken by 'NameResolutionError(\"<urllib3.connection.HTTPSConnection object at 0x000002AD495AEC80>: Failed to resolve 'auth.quantum-computing.ibm.com' ([Errno 11001] getaddrinfo failed)\")': /api/version\n"
     ]
    },
    {
     "name": "stdout",
     "output_type": "stream",
     "text": [
      "Error connecting to IBM Quantum: RequestsApiError\n",
      "Please check your internet connection and try again.\n",
      "Note: You can continue with local simulators without IBM Quantum access.\n"
     ]
    }
   ],
   "source": [
    "# Skip loading IBM account - using local simulator instead\n",
    "print(\"Skipping IBM Quantum connection - using local simulator\")"
   ]
  },
  {
   "cell_type": "code",
   "execution_count": 31,
   "id": "bba6e6e8",
   "metadata": {},
   "outputs": [
    {
     "name": "stdout",
     "output_type": "stream",
     "text": [
      "Using local simulator: aer_simulator\n"
     ]
    }
   ],
   "source": [
    "# Using local Aer simulator instead of real IBM Quantum hardware\n",
    "from qiskit.providers.aer import AerSimulator\n",
    "\n",
    "# Create a local simulator with 7 qubits\n",
    "dev = AerSimulator()\n",
    "print(f\"Using local simulator: {dev.name()}\")"
   ]
  },
  {
   "cell_type": "code",
   "execution_count": 32,
   "id": "5a483deb",
   "metadata": {},
   "outputs": [],
   "source": [
    "from sklearn.decomposition import PCA\n",
    "\n",
    "pca = PCA(n_components = 7)\n",
    "\n",
    "xss_tr = pca.fit_transform(x_tr)\n",
    "\n",
    "xss_test = pca.transform(x_test)"
   ]
  },
  {
   "cell_type": "code",
   "execution_count": 33,
   "id": "49e1df3d",
   "metadata": {},
   "outputs": [
    {
     "name": "stdout",
     "output_type": "stream",
     "text": [
      "Training QSVC with local simulator...\n",
      "Training complete!\n",
      "Training complete!\n",
      "Test accuracy: 0.5384615384615384\n",
      "Test accuracy: 0.5384615384615384\n"
     ]
    }
   ],
   "source": [
    "zzfm = ZZFeatureMap(7)\n",
    "# Using local simulator instead of real quantum hardware\n",
    "qkernel = QuantumKernel(feature_map = zzfm, quantum_instance = dev)\n",
    "qsvm = QSVC(quantum_kernel = qkernel)\n",
    "print(\"Training QSVC with local simulator...\")\n",
    "qsvm.fit(xss_tr, y_tr)\n",
    "print(\"Training complete!\")\n",
    "print(f\"Test accuracy: {accuracy_score(qsvm.predict(xss_test), y_test)}\")"
   ]
  }
 ],
 "metadata": {
  "kernelspec": {
   "display_name": "myenv1",
   "language": "python",
   "name": "python3"
  },
  "language_info": {
   "codemirror_mode": {
    "name": "ipython",
    "version": 3
   },
   "file_extension": ".py",
   "mimetype": "text/x-python",
   "name": "python",
   "nbconvert_exporter": "python",
   "pygments_lexer": "ipython3",
   "version": "3.10.19"
  }
 },
 "nbformat": 4,
 "nbformat_minor": 5
}
